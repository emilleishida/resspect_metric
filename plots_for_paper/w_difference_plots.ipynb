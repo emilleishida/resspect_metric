{
 "cells": [
  {
   "cell_type": "markdown",
   "metadata": {},
   "source": [
    "# Plotting _w_ with results from wfit and Stan\n",
    "\n",
    "Author(s): Kara Ponder (SLAC)"
   ]
  },
  {
   "cell_type": "code",
   "execution_count": null,
   "metadata": {},
   "outputs": [],
   "source": [
    "%matplotlib inline\n",
    "\n",
    "import pandas as pd\n",
    "import matplotlib.pyplot as plt\n",
    "import numpy as np\n",
    "import matplotlib.colors as colors\n",
    "import matplotlib.cm as cmx\n",
    "from mpl_toolkits.axes_grid1 import make_axes_locatable"
   ]
  },
  {
   "cell_type": "code",
   "execution_count": null,
   "metadata": {},
   "outputs": [],
   "source": [
    "# DDF summary on the COIN server:\n",
    "table_loc = '/media2/RESSPECT2/data/posteriors/summary_cases.csv' \n",
    "file_extension = 'DDF'\n",
    "\n",
    "# DDF summary on the COIN server:\n",
    "#table_loc = '/media2/RESSPECT2/data/posteriors/WFD/summary_cases_WFD.csv'\n",
    "#file_extension = 'WFD'"
   ]
  },
  {
   "cell_type": "code",
   "execution_count": null,
   "metadata": {},
   "outputs": [],
   "source": [
    "df = pd.read_csv(table_loc)"
   ]
  },
  {
   "cell_type": "code",
   "execution_count": null,
   "metadata": {},
   "outputs": [],
   "source": [
    "from collections import OrderedDict\n",
    "remap_dict = OrderedDict({\n",
    "                          'perfect': 'Perfect', \n",
    "                          'fiducial': 'Fiducial', \n",
    "                          'random': 'Random',\n",
    "                          '50SNIa50SNII': 'SN-II 50',\n",
    "                          '68SNIa32SNII': 'SN-II 32',\n",
    "                          '75SNIa25SNII': 'SN-II 25', \n",
    "                          '90SNIa10SNII': 'SN-II 10',\n",
    "                          '95SNIa5SNII': 'SN-II 5',\n",
    "                          '98SNIa2SNII': 'SN-II 2',\n",
    "                          '99SNIa1SNII': 'SN-II 1',\n",
    "                          '83SNIa17SNIbc': 'SN-Ibc 17',\n",
    "                          '90SNIa10SNIbc': 'SN-Ibc 10',\n",
    "                          '95SNIa5SNIbc': 'SN-Ibc 5',\n",
    "                          '98SNIa2SNIbc': 'SN-Ibc 2',\n",
    "                          '99SNIa1SNIbc': 'SN-Ibc 1',\n",
    "                          '94SNIa6SNIax': 'SN-Iax 6',\n",
    "                          '95SNIa5SNIax': 'SN-Iax 5',\n",
    "                          '97SNIa3SNIax': 'SN-Iax 3',\n",
    "                          '98SNIa2SNIax': 'SN-Iax 2',\n",
    "                          '99SNIa1SNIax': 'SN-Iax 1',\n",
    "                          '98SNIa2SNIa-91bg': 'SN-Ia-91bg 2',\n",
    "                          '99SNIa1SNIa-91bg': 'SN-Ia-91bg 1',\n",
    "                          '94SNIa6AGN': 'AGN 6',\n",
    "                          '98SNIa2AGN': 'AGN 2',\n",
    "                          '99SNIa1AGN': 'AGN 1',\n",
    "                          '98SNIa2SLSN-I': 'SNLS-I 2',\n",
    "                          '99SNIa1SLSN-I': 'SNLS-I 1',\n",
    "              })"
   ]
  },
  {
   "cell_type": "code",
   "execution_count": null,
   "metadata": {},
   "outputs": [],
   "source": [
    "# Mapping the percent contaminated to the colormap.\n",
    "## size corresponds to remap_dict\n",
    "color_nums = np.array([1, 1, 1, 50, 32, 25, 10, 5, 2, 1, 17, 10, 5, 2, 1, 6, 5, 3, 2, 1, 2, 1, 6, 2, 1, 2, 1]) #+ 1"
   ]
  },
  {
   "cell_type": "code",
   "execution_count": null,
   "metadata": {},
   "outputs": [],
   "source": [
    "# Color map\n",
    "rainbow = cm = plt.get_cmap('plasma_r')\n",
    "cNorm  = colors.LogNorm(vmin=1, vmax=52) #colors.Normalize(vmin=0, vmax=50)\n",
    "scalarMap = cmx.ScalarMappable(norm=cNorm, cmap=rainbow)\n",
    "color_map = scalarMap.to_rgba(np.arange(1, 52))"
   ]
  },
  {
   "cell_type": "code",
   "execution_count": null,
   "metadata": {},
   "outputs": [],
   "source": [
    "fig, (ax1, ax2) = plt.subplots(1, 2, figsize=(10,10), sharey=True, sharex=True)\n",
    "\n",
    "ax1.axvline(-1, color='c', ls='--')\n",
    "ax2.axvline(-1, color='c', ls='--')\n",
    "\n",
    "ax1.axvline(df['wfit_w_lowz'].loc[df['case'] == 'perfect'].values, color='k')\n",
    "ax1.axvspan(df['wfit_w_lowz'].loc[df['case'] == 'perfect'].values-df['wfit_wsig_lowz'].loc[df['case'] == 'perfect'].values, \n",
    "            df['wfit_w_lowz'].loc[df['case'] == 'perfect'].values+df['wfit_wsig_lowz'].loc[df['case'] == 'perfect'].values, alpha=0.1, color='grey')\n",
    "\n",
    "ax2.axvline(df['stan_w_lowz'].loc[df['case'] == 'perfect'].values, color='k')\n",
    "ax2.axvspan(df['stan_w_lowz'].loc[df['case'] == 'perfect'].values-df['stan_wsig_lowz'].loc[df['case'] == 'perfect'].values, \n",
    "            df['stan_w_lowz'].loc[df['case'] == 'perfect'].values+df['stan_wsig_lowz'].loc[df['case'] == 'perfect'].values, alpha=0.1, color='grey')\n",
    "\n",
    "i = 0\n",
    "tick_lbls = []\n",
    "for j, (a, c) in enumerate(zip(remap_dict, color_nums)):\n",
    "    try:\n",
    "        # wfit\n",
    "        wfw = df['wfit_w_lowz'].loc[df['case'] == a].values\n",
    "        wfw_sig = df['wfit_wsig_lowz'].loc[df['case'] == a].values\n",
    "        if 'fiducial' in a:\n",
    "            ax1.plot(wfw, -i, 'o', color='blue', ms=7)\n",
    "            ax1.plot([wfw - wfw_sig, wfw + wfw_sig], [-i, -i], \"|-\", color='blue', ms=10)\n",
    "        elif 'random' in a:\n",
    "            ax1.plot(wfw, -i, 'o', color='red', ms=7)\n",
    "            ax1.plot([wfw - wfw_sig, wfw + wfw_sig], [-i, -i], \"|-\", color='red', ms=10)\n",
    "        elif 'perfect' in a:\n",
    "            ax1.plot(wfw, -i, 'o', color='k', ms=7)\n",
    "            ax1.plot([wfw - wfw_sig, wfw + wfw_sig], [-i, -i], \"|-\", color='k', ms=10 )\n",
    "        else:\n",
    "            ax1.plot(wfw, -i, 'o', color=color_map[c], ms=7)\n",
    "            ax1.plot([wfw - wfw_sig, wfw + wfw_sig], [-i, -i], \"|-\", color=color_map[c], ms=10)\n",
    "\n",
    "        # Stan/Bayes\n",
    "        bw = df['stan_w_lowz'].loc[df['case'] == a].values\n",
    "        bw_sig = df['stan_wsig_lowz'].loc[df['case'] == a].values\n",
    "        if 'fiducial' in a:\n",
    "            ax2.plot(bw, -i, 'o', color='blue', ms=7)\n",
    "            ax2.plot([bw - bw_sig, bw + bw_sig], [-i, -i], \"|-\", color='blue', ms=10)\n",
    "        elif 'random' in a:\n",
    "            ax2.plot(bw, -i, 'o', color='red', ms=7)\n",
    "            ax2.plot([bw - bw_sig, bw + bw_sig], [-i, -i], \"|-\", color='red', ms=10)\n",
    "        elif 'perfect' in a:\n",
    "            ax2.plot(bw, -i, 'o', color='k', ms=7)\n",
    "            ax2.plot([bw - bw_sig, bw + bw_sig], [-i, -i], \"|-\", color='k', ms=10 )\n",
    "        else:\n",
    "            ax2.plot(bw, -i, 'o', color=color_map[c], ms=7)\n",
    "            ax2.plot([bw - bw_sig, bw + bw_sig], [-i, -i], \"|-\", color=color_map[c], ms=10)\n",
    "\n",
    "        tick_lbls.append(remap_dict[a])\n",
    "        i +=1\n",
    "    except:\n",
    "        print(\"Missing: \", a)\n",
    "\n",
    "\n",
    "tick_locs = np.arange(-len(tick_lbls)+1, 1)\n",
    "ax1.set_yticks(tick_locs)\n",
    "ax1.set_yticklabels(tick_lbls[::-1], fontsize=13)\n",
    "\n",
    "ax1.set_ylim(-len(tick_lbls)+0.5, 0.5)\n",
    "\n",
    "ax1.set_xlabel(r'wfit $w$', fontsize=13)\n",
    "ax2.set_xlabel(r'Bayes $w$', fontsize=13)\n",
    "plt.subplots_adjust(bottom=0.15, wspace=0.05)\n",
    "\n",
    "#plt.savefig('w_diff_fractions_' + file_extension + '_lowz.pdf', bbox_inches='tight')"
   ]
  },
  {
   "cell_type": "code",
   "execution_count": null,
   "metadata": {},
   "outputs": [],
   "source": []
  }
 ],
 "metadata": {
  "kernelspec": {
   "display_name": "Python 3",
   "language": "python",
   "name": "python3"
  },
  "language_info": {
   "codemirror_mode": {
    "name": "ipython",
    "version": 3
   },
   "file_extension": ".py",
   "mimetype": "text/x-python",
   "name": "python",
   "nbconvert_exporter": "python",
   "pygments_lexer": "ipython3",
   "version": "3.7.3"
  }
 },
 "nbformat": 4,
 "nbformat_minor": 4
}
