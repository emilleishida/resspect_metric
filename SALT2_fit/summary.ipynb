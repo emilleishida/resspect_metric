{
 "cells": [
  {
   "cell_type": "code",
   "execution_count": 1,
   "metadata": {},
   "outputs": [],
   "source": [
    "import pandas as pd\n",
    "import numpy as np\n",
    "import os\n",
    "import matplotlib.pylab as plt\n",
    "import seaborn as sns"
   ]
  },
  {
   "cell_type": "code",
   "execution_count": null,
   "metadata": {},
   "outputs": [],
   "source": [
    "types_names = {90: 'Ia', 67: '91bg', 52:'Iax', 42:'II', 62:'Ibc', \n",
    "               95: 'SLSN', 15:'TDE', 64:'KN', 88:'AGN', 92:'RRL', 65:'M-dwarf',\n",
    "               16:'EB',53:'Mira', 6:'MicroL', 991:'MicroLB', 992:'ILOT', \n",
    "               993:'CART', 994:'PISN',995:'MLString'}\n",
    "\n",
    "SNANA_names = {11: 'Ia', 3:'Ibc', 13: 'Ibc', 2:'II', 12:'II', 14:'II',\n",
    "               41: '91bg', 43:'Iax', 51:'KN', 60:'SLSN', 61:'PISN', 62:'ILOT',\n",
    "               63:'CART', 64:'TDE', 70:'AGN', 80:'RRL', 81:'M-dwarf', 83:'EB',\n",
    "               84:'Mira', 90:'MicroLB', 91:'MicroL', 93:'MicroL'}"
   ]
  },
  {
   "cell_type": "code",
   "execution_count": 3,
   "metadata": {},
   "outputs": [],
   "source": [
    "dir_list = os.listdir('.')"
   ]
  },
  {
   "cell_type": "code",
   "execution_count": 4,
   "metadata": {},
   "outputs": [],
   "source": [
    "dir_list.remove('.ipynb_checkpoints')\n",
    "dir_list.remove('summary.ipynb')\n",
    "dir_list.remove('plots')\n",
    "dir_list.remove('make_samples.ipynb')\n",
    "dir_list.remove('DDF')\n",
    "dir_list.remove('WFD')"
   ]
  },
  {
   "cell_type": "code",
   "execution_count": 20,
   "metadata": {},
   "outputs": [
    {
     "name": "stdout",
     "output_type": "stream",
     "text": [
      "AGN\n",
      "CART\n",
      "TDE\n",
      "ILOT\n",
      "91bg\n",
      "KN\n",
      "SLSN\n",
      "Ibc\n",
      "Iax\n",
      "Ia\n",
      "PISN\n",
      "II\n"
     ]
    }
   ],
   "source": [
    "data = []\n",
    "\n",
    "for name in dir_list:\n",
    "    print(name)\n",
    "    \n",
    "    fitres_list = os.listdir(name + '/results/')\n",
    "    fitres_list.remove('salt3')\n",
    "    fitres_list.remove('master_fitres.fitres')\n",
    "    \n",
    "    if '.ipynb_checkpoints' in fitres_list:\n",
    "        fitres_list.remove('.ipynb_checkpoints')\n",
    "    \n",
    "    fitres_all = []\n",
    "    for fname_fitres in fitres_list:     \n",
    "        try:\n",
    "            fitres_temp = pd.read_csv(name + '/results/' + fname_fitres, delim_whitespace=True, \n",
    "                                      comment='#')           \n",
    "            fitres_all.append(fitres_temp)\n",
    "        except:\n",
    "            pass\n",
    "    \n",
    "    if len(fitres_all) > 1:\n",
    "        fitres = pd.concat(fitres_all, ignore_index=True)\n",
    "    \n",
    "    data.append(fitres)\n",
    "    \n",
    "data_final = pd.concat(data, ignore_index=True)"
   ]
  },
  {
   "cell_type": "code",
   "execution_count": 5,
   "metadata": {},
   "outputs": [],
   "source": [
    "data_ddf_surv = pd.read_csv('DDF/all_objs_survived_SALT2_WFD.csv')"
   ]
  },
  {
   "cell_type": "code",
   "execution_count": 12,
   "metadata": {},
   "outputs": [
    {
     "name": "stdout",
     "output_type": "stream",
     "text": [
      "II  ---   31414  ---  1.5831786138342414\n",
      "Ibc  ---   3558  ---  0.17931334780741806\n",
      "Ia  ---   1886964  ---  95.09776054864442\n",
      "II  ---   26065  ---  1.31360382535142\n",
      "Ibc  ---   2508  ---  0.12639625528414966\n",
      "II  ---   4854  ---  0.24462815915042363\n",
      "91bg  ---   1762  ---  0.08879992097714183\n",
      "Iax  ---   23698  ---  1.1943135796346807\n",
      "SLSN  ---   529  ---  0.026660135185532365\n",
      "TDE  ---   304  ---  0.015320758216260565\n",
      "AGN  ---   2580  ---  0.13002485591431664\n"
     ]
    }
   ],
   "source": [
    "objs, freq = np.unique(data_ddf_surv['SIM_TYPE_INDEX'].values, return_counts=True)\n",
    "\n",
    "for i in range(len(objs)):\n",
    "    print(SNANA_names[objs[i]], ' ---  ', freq[i], ' --- ', 100 * freq[i]/data_ddf_surv.shape[0])"
   ]
  },
  {
   "cell_type": "raw",
   "metadata": {},
   "source": [
    "data_final.to_csv('WFD/all_objs_survived_SALT2_WFD.csv', \n",
    "                   index=False)"
   ]
  },
  {
   "cell_type": "code",
   "execution_count": 22,
   "metadata": {},
   "outputs": [],
   "source": [
    "data = []\n",
    "    \n",
    "for name in dir_list:\n",
    "    \n",
    "    try:\n",
    "        fitres = pd.read_csv(name + '/results/master_fitres.fitres', delim_whitespace=True, \n",
    "                             comment='#')       \n",
    "        if len(fitres) > 1:     \n",
    "            data.append(fitres)\n",
    "    except:\n",
    "        pass\n",
    "    \n",
    "    \n",
    "    \n",
    "data_ddf = pd.concat(data, ignore_index=True)"
   ]
  },
  {
   "cell_type": "code",
   "execution_count": 29,
   "metadata": {},
   "outputs": [
    {
     "name": "stdout",
     "output_type": "stream",
     "text": [
      "II   ---    525\n",
      "Ibc   ---    158\n",
      "Ia   ---    10327\n",
      "II   ---    262\n",
      "Ibc   ---    93\n",
      "II   ---    63\n",
      "91bg   ---    6\n",
      "Iax   ---    428\n",
      "SLSN   ---    4\n",
      "CART   ---    28\n",
      "AGN   ---    3\n"
     ]
    }
   ],
   "source": [
    "elem, freq = np.unique(data_ddf['SIM_TYPE_INDEX'].values, return_counts=True)\n",
    "\n",
    "for i in range(len(elem)):\n",
    "    print(SNANA_names[elem[i]], '  ---   ', freq[i])"
   ]
  },
  {
   "cell_type": "code",
   "execution_count": null,
   "metadata": {},
   "outputs": [],
   "source": [
    "data_ddf.to_csv('DDF/all_objs_survived_SALT2_DDF.csv.gz', \n",
    "                   index=False)"
   ]
  },
  {
   "cell_type": "code",
   "execution_count": null,
   "metadata": {},
   "outputs": [],
   "source": [
    "data_ddf_surv = pd.read_csv('/media/RESSPECT/data/PLAsTiCC/for_metrics/ddf/samples/all_objs_survived_SALT2_DDF.csv.gz')"
   ]
  },
  {
   "cell_type": "code",
   "execution_count": null,
   "metadata": {},
   "outputs": [],
   "source": [
    "data_ddf_surv['field'] = 'DDF'"
   ]
  },
  {
   "cell_type": "code",
   "execution_count": null,
   "metadata": {},
   "outputs": [],
   "source": [
    "data_wfd_surv['field'] = 'WFD'"
   ]
  },
  {
   "cell_type": "code",
   "execution_count": null,
   "metadata": {},
   "outputs": [],
   "source": [
    "data = pd.concat([data_ddf_surv, data_wfd_surv], ignore_index=True)"
   ]
  },
  {
   "cell_type": "code",
   "execution_count": null,
   "metadata": {},
   "outputs": [],
   "source": [
    "type_ddf_surv, freq_type_ddf_surv = np.unique(data_ddf_surv['type'].values, return_counts=True)\n",
    "field_ddf_surv, freq_field_ddf_surv = np.unique(data_ddf_surv['field'].values, return_counts=True)\n",
    "\n",
    "type_wfd_surv, freq_type_wfd_surv = np.unique(data_wfd_surv['type'].values, return_counts=True)\n",
    "type_wfd_surv, freq_field_wfd_surv = np.unique(data_wfd_surv['field'].values, return_counts=True)"
   ]
  },
  {
   "cell_type": "code",
   "execution_count": 13,
   "metadata": {},
   "outputs": [],
   "source": [
    "fname = '/media/RESSPECT/data/PLAsTiCC/PLAsTiCC_zenodo/plasticc_test_metadata.csv'\n",
    "zenodo = pd.read_csv(fname)"
   ]
  },
  {
   "cell_type": "code",
   "execution_count": 14,
   "metadata": {},
   "outputs": [],
   "source": [
    "ddf_flag = zenodo['ddf_bool'].values == 0\n",
    "\n",
    "codes_ddf_zenodo, freq_ddf_zenodo = np.unique(zenodo['true_target'].values[ddf_flag], return_counts=True)\n",
    "codes_wfd_zenodo, freq_wfd_zenodo = np.unique(zenodo['true_target'].values[~ddf_flag], return_counts=True)"
   ]
  },
  {
   "cell_type": "code",
   "execution_count": 15,
   "metadata": {},
   "outputs": [
    {
     "name": "stdout",
     "output_type": "stream",
     "text": [
      "MicroL  --  0.04  ---  0.5622890874009093\n",
      "TDE  --  0.39  ---  5.847026154029349\n",
      "EB  --  2.79  ---  41.865609006336484\n",
      "II  --  28.44  ---  426.665132932019\n",
      "Iax  --  1.82  ---  27.25042803913567\n",
      "Mira  --  0.04  ---  0.627318665743343\n",
      "Ibc  --  5.0  ---  74.95742730271182\n",
      "KN  --  0.0  ---  0.056792498419058694\n",
      "M-dwarf  --  2.7  ---  40.506057288457335\n",
      "91bg  --  1.15  ---  17.267954233049824\n",
      "AGN  --  2.92  ---  43.813028112431226\n",
      "Ia  --  47.61  ---  714.1075745296772\n",
      "RRL  --  5.69  ---  85.41114878651916\n",
      "SLSN  --  1.03  ---  15.470103157142676\n",
      "MicroLB  --  0.02  ---  0.22716999367623478\n",
      "ILOT  --  0.05  ---  0.7244295027347105\n",
      "CART  --  0.28  ---  4.135014121534212\n",
      "PISN  --  0.03  ---  0.5054965889818507\n"
     ]
    }
   ],
   "source": [
    "for i in range(len(codes_ddf_zenodo)):\n",
    "    perc = freq_ddf_zenodo[i]/sum(ddf_flag)\n",
    "    print(types_names[codes_ddf_zenodo[i]], ' -- ', round(100*perc, 2), ' --- ', perc*1500)"
   ]
  },
  {
   "cell_type": "code",
   "execution_count": null,
   "metadata": {},
   "outputs": [],
   "source": [
    "pop_ddf = pd.DataFrame()\n",
    "pop_ddf['type'] = list(type_unique2) + [types_names[item] for item in codes_ddf]\n",
    "pop_ddf['freq'] = list(freq2) + list(freq_zenodo_ddf)\n",
    "pop_ddf['sample'] = ['SALT2_surv' for i in range(len(freq2))] + ['zenodo' for i in range(len(freq_zenodo_ddf))]\n",
    "\n",
    "pop_wfd = pd.DataFrame()\n",
    "pop_wfd['type'] = list(type_unique) + [types_names[item] for item in codes_wfd]\n",
    "pop_wfd['freq'] = list(freq) + list(freq_zenodo_wfd)\n",
    "pop_wfd['sample'] = ['SALT2_surv' for i in range(len(freq))] + ['zenodo' for i in range(len(freq_zenodo_wfd))]"
   ]
  },
  {
   "cell_type": "code",
   "execution_count": null,
   "metadata": {},
   "outputs": [],
   "source": [
    "pop_ddf"
   ]
  },
  {
   "cell_type": "code",
   "execution_count": null,
   "metadata": {},
   "outputs": [],
   "source": [
    "for i in range(len(pop_ddf)):\n",
    "    if pop_ddf.iloc[i]['sample'] == 'SALT2_surv':\n",
    "        name = pop_ddf.iloc[i]['type']\n",
    "        size = pop_ddf.iloc[i]['freq']\n",
    "        \n",
    "        for j in range(len(pop_ddf)):\n",
    "            if pop_ddf.iloc[j]['type'] == name and pop_ddf.iloc[j]['sample'] == 'zenodo':\n",
    "                tot = pop_ddf.iloc[j]['freq']\n",
    "                \n",
    "        pop_ddf.at[i, 'perc_surv'] = size/tot\n",
    "        \n",
    "    else:\n",
    "        pop_ddf.at[i, 'perc_surv'] = 1\n",
    "        \n",
    "        \n",
    "for i in range(len(pop_wfd)):\n",
    "    if pop_wfd.iloc[i]['sample'] == 'SALT2_surv':\n",
    "        name = pop_wfd.iloc[i]['type']\n",
    "        size = pop_wfd.iloc[i]['freq']\n",
    "        \n",
    "        for j in range(len(pop_wfd)):\n",
    "            if pop_wfd.iloc[j]['type'] == name and pop_wfd.iloc[j]['sample'] == 'zenodo':\n",
    "                tot = pop_wfd.iloc[j]['freq']\n",
    "                \n",
    "        pop_wfd.at[i, 'perc_surv'] = size/tot\n",
    "        \n",
    "    else:\n",
    "        pop_wfd.at[i, 'perc_surv'] = 1"
   ]
  },
  {
   "cell_type": "code",
   "execution_count": 5,
   "metadata": {},
   "outputs": [
    {
     "ename": "NameError",
     "evalue": "name 'pop_ddf' is not defined",
     "output_type": "error",
     "traceback": [
      "\u001b[0;31m---------------------------------------------------------------------------\u001b[0m",
      "\u001b[0;31mNameError\u001b[0m                                 Traceback (most recent call last)",
      "\u001b[0;32m<ipython-input-5-b8315db6bfc4>\u001b[0m in \u001b[0;36m<module>\u001b[0;34m\u001b[0m\n\u001b[0;32m----> 1\u001b[0;31m \u001b[0mzenodo_flag\u001b[0m \u001b[0;34m=\u001b[0m \u001b[0mpop_ddf\u001b[0m\u001b[0;34m[\u001b[0m\u001b[0;34m'sample'\u001b[0m\u001b[0;34m]\u001b[0m\u001b[0;34m.\u001b[0m\u001b[0mvalues\u001b[0m \u001b[0;34m==\u001b[0m \u001b[0;34m'zenodo'\u001b[0m\u001b[0;34m\u001b[0m\u001b[0;34m\u001b[0m\u001b[0m\n\u001b[0m",
      "\u001b[0;31mNameError\u001b[0m: name 'pop_ddf' is not defined"
     ]
    }
   ],
   "source": [
    "zenodo_flag = pop_ddf['sample'].values == 'zenodo'"
   ]
  },
  {
   "cell_type": "code",
   "execution_count": 52,
   "metadata": {},
   "outputs": [
    {
     "data": {
      "text/html": [
       "<div>\n",
       "<style scoped>\n",
       "    .dataframe tbody tr th:only-of-type {\n",
       "        vertical-align: middle;\n",
       "    }\n",
       "\n",
       "    .dataframe tbody tr th {\n",
       "        vertical-align: top;\n",
       "    }\n",
       "\n",
       "    .dataframe thead th {\n",
       "        text-align: right;\n",
       "    }\n",
       "</style>\n",
       "<table border=\"1\" class=\"dataframe\">\n",
       "  <thead>\n",
       "    <tr style=\"text-align: right;\">\n",
       "      <th></th>\n",
       "      <th>type</th>\n",
       "      <th>freq</th>\n",
       "      <th>sample</th>\n",
       "      <th>perc_surv</th>\n",
       "    </tr>\n",
       "  </thead>\n",
       "  <tbody>\n",
       "    <tr>\n",
       "      <th>0</th>\n",
       "      <td>91bg</td>\n",
       "      <td>881</td>\n",
       "      <td>SALT2_surv</td>\n",
       "      <td>0.022118</td>\n",
       "    </tr>\n",
       "    <tr>\n",
       "      <th>1</th>\n",
       "      <td>AGN</td>\n",
       "      <td>1290</td>\n",
       "      <td>SALT2_surv</td>\n",
       "      <td>0.012765</td>\n",
       "    </tr>\n",
       "    <tr>\n",
       "      <th>2</th>\n",
       "      <td>II</td>\n",
       "      <td>59199</td>\n",
       "      <td>SALT2_surv</td>\n",
       "      <td>0.060152</td>\n",
       "    </tr>\n",
       "    <tr>\n",
       "      <th>3</th>\n",
       "      <td>Ia</td>\n",
       "      <td>933909</td>\n",
       "      <td>SALT2_surv</td>\n",
       "      <td>0.566971</td>\n",
       "    </tr>\n",
       "    <tr>\n",
       "      <th>4</th>\n",
       "      <td>Iax</td>\n",
       "      <td>23698</td>\n",
       "      <td>SALT2_surv</td>\n",
       "      <td>0.377014</td>\n",
       "    </tr>\n",
       "    <tr>\n",
       "      <th>5</th>\n",
       "      <td>Ibc</td>\n",
       "      <td>6066</td>\n",
       "      <td>SALT2_surv</td>\n",
       "      <td>0.035084</td>\n",
       "    </tr>\n",
       "    <tr>\n",
       "      <th>6</th>\n",
       "      <td>SLSN</td>\n",
       "      <td>529</td>\n",
       "      <td>SALT2_surv</td>\n",
       "      <td>0.014825</td>\n",
       "    </tr>\n",
       "    <tr>\n",
       "      <th>7</th>\n",
       "      <td>TDE</td>\n",
       "      <td>152</td>\n",
       "      <td>SALT2_surv</td>\n",
       "      <td>0.011270</td>\n",
       "    </tr>\n",
       "    <tr>\n",
       "      <th>8</th>\n",
       "      <td>MicroL</td>\n",
       "      <td>1297</td>\n",
       "      <td>zenodo</td>\n",
       "      <td>1.000000</td>\n",
       "    </tr>\n",
       "    <tr>\n",
       "      <th>9</th>\n",
       "      <td>TDE</td>\n",
       "      <td>13487</td>\n",
       "      <td>zenodo</td>\n",
       "      <td>1.000000</td>\n",
       "    </tr>\n",
       "    <tr>\n",
       "      <th>10</th>\n",
       "      <td>EB</td>\n",
       "      <td>96569</td>\n",
       "      <td>zenodo</td>\n",
       "      <td>1.000000</td>\n",
       "    </tr>\n",
       "    <tr>\n",
       "      <th>11</th>\n",
       "      <td>II</td>\n",
       "      <td>984164</td>\n",
       "      <td>zenodo</td>\n",
       "      <td>1.000000</td>\n",
       "    </tr>\n",
       "    <tr>\n",
       "      <th>12</th>\n",
       "      <td>Iax</td>\n",
       "      <td>62857</td>\n",
       "      <td>zenodo</td>\n",
       "      <td>1.000000</td>\n",
       "    </tr>\n",
       "    <tr>\n",
       "      <th>13</th>\n",
       "      <td>Mira</td>\n",
       "      <td>1447</td>\n",
       "      <td>zenodo</td>\n",
       "      <td>1.000000</td>\n",
       "    </tr>\n",
       "    <tr>\n",
       "      <th>14</th>\n",
       "      <td>Ibc</td>\n",
       "      <td>172900</td>\n",
       "      <td>zenodo</td>\n",
       "      <td>1.000000</td>\n",
       "    </tr>\n",
       "    <tr>\n",
       "      <th>15</th>\n",
       "      <td>KN</td>\n",
       "      <td>131</td>\n",
       "      <td>zenodo</td>\n",
       "      <td>1.000000</td>\n",
       "    </tr>\n",
       "    <tr>\n",
       "      <th>16</th>\n",
       "      <td>M-dwarf</td>\n",
       "      <td>93433</td>\n",
       "      <td>zenodo</td>\n",
       "      <td>1.000000</td>\n",
       "    </tr>\n",
       "    <tr>\n",
       "      <th>17</th>\n",
       "      <td>91bg</td>\n",
       "      <td>39831</td>\n",
       "      <td>zenodo</td>\n",
       "      <td>1.000000</td>\n",
       "    </tr>\n",
       "    <tr>\n",
       "      <th>18</th>\n",
       "      <td>AGN</td>\n",
       "      <td>101061</td>\n",
       "      <td>zenodo</td>\n",
       "      <td>1.000000</td>\n",
       "    </tr>\n",
       "    <tr>\n",
       "      <th>19</th>\n",
       "      <td>Ia</td>\n",
       "      <td>1647191</td>\n",
       "      <td>zenodo</td>\n",
       "      <td>1.000000</td>\n",
       "    </tr>\n",
       "    <tr>\n",
       "      <th>20</th>\n",
       "      <td>RRL</td>\n",
       "      <td>197013</td>\n",
       "      <td>zenodo</td>\n",
       "      <td>1.000000</td>\n",
       "    </tr>\n",
       "    <tr>\n",
       "      <th>21</th>\n",
       "      <td>SLSN</td>\n",
       "      <td>35684</td>\n",
       "      <td>zenodo</td>\n",
       "      <td>1.000000</td>\n",
       "    </tr>\n",
       "    <tr>\n",
       "      <th>22</th>\n",
       "      <td>MicroLB</td>\n",
       "      <td>524</td>\n",
       "      <td>zenodo</td>\n",
       "      <td>1.000000</td>\n",
       "    </tr>\n",
       "    <tr>\n",
       "      <th>23</th>\n",
       "      <td>ILOT</td>\n",
       "      <td>1671</td>\n",
       "      <td>zenodo</td>\n",
       "      <td>1.000000</td>\n",
       "    </tr>\n",
       "    <tr>\n",
       "      <th>24</th>\n",
       "      <td>CART</td>\n",
       "      <td>9538</td>\n",
       "      <td>zenodo</td>\n",
       "      <td>1.000000</td>\n",
       "    </tr>\n",
       "    <tr>\n",
       "      <th>25</th>\n",
       "      <td>PISN</td>\n",
       "      <td>1166</td>\n",
       "      <td>zenodo</td>\n",
       "      <td>1.000000</td>\n",
       "    </tr>\n",
       "  </tbody>\n",
       "</table>\n",
       "</div>"
      ],
      "text/plain": [
       "       type     freq      sample  perc_surv\n",
       "0      91bg      881  SALT2_surv   0.022118\n",
       "1       AGN     1290  SALT2_surv   0.012765\n",
       "2        II    59199  SALT2_surv   0.060152\n",
       "3        Ia   933909  SALT2_surv   0.566971\n",
       "4       Iax    23698  SALT2_surv   0.377014\n",
       "5       Ibc     6066  SALT2_surv   0.035084\n",
       "6      SLSN      529  SALT2_surv   0.014825\n",
       "7       TDE      152  SALT2_surv   0.011270\n",
       "8    MicroL     1297      zenodo   1.000000\n",
       "9       TDE    13487      zenodo   1.000000\n",
       "10       EB    96569      zenodo   1.000000\n",
       "11       II   984164      zenodo   1.000000\n",
       "12      Iax    62857      zenodo   1.000000\n",
       "13     Mira     1447      zenodo   1.000000\n",
       "14      Ibc   172900      zenodo   1.000000\n",
       "15       KN      131      zenodo   1.000000\n",
       "16  M-dwarf    93433      zenodo   1.000000\n",
       "17     91bg    39831      zenodo   1.000000\n",
       "18      AGN   101061      zenodo   1.000000\n",
       "19       Ia  1647191      zenodo   1.000000\n",
       "20      RRL   197013      zenodo   1.000000\n",
       "21     SLSN    35684      zenodo   1.000000\n",
       "22  MicroLB      524      zenodo   1.000000\n",
       "23     ILOT     1671      zenodo   1.000000\n",
       "24     CART     9538      zenodo   1.000000\n",
       "25     PISN     1166      zenodo   1.000000"
      ]
     },
     "execution_count": 52,
     "metadata": {},
     "output_type": "execute_result"
    }
   ],
   "source": [
    "pop_wfd"
   ]
  },
  {
   "cell_type": "code",
   "execution_count": null,
   "metadata": {},
   "outputs": [],
   "source": [
    "sns.set(style=\"white\")\n",
    "\n",
    "plt.figure(figsize=(16,5))\n",
    "\n",
    "plt.subplot(1,2,1)\n",
    "plt.title('DDF', fontsize=22)\n",
    "ax = sns.barplot(x=\"type\", y=\"freq\", hue='sample', data=pop_ddf)\n",
    "plt.setp(ax.get_xticklabels(), rotation=90, fontsize=16)\n",
    "plt.legend(loc='upper right')\n",
    "\n",
    "plt.subplot(1,2,2)\n",
    "plt.title('WFD', fontsize=22)\n",
    "ax = sns.barplot(x=\"type\", y=\"freq\", hue='sample', data=pop_wfd)\n",
    "plt.setp(ax.get_xticklabels(), rotation=90, fontsize=16)\n",
    "plt.legend(loc='upper right')\n",
    "\n",
    "plt.subplots_adjust(bottom=0.275)\n",
    "plt.savefig('plots/pop_SALT2_surve.png')"
   ]
  },
  {
   "cell_type": "code",
   "execution_count": null,
   "metadata": {},
   "outputs": [],
   "source": []
  }
 ],
 "metadata": {
  "kernelspec": {
   "display_name": "Python 3",
   "language": "python",
   "name": "python3"
  },
  "language_info": {
   "codemirror_mode": {
    "name": "ipython",
    "version": 3
   },
   "file_extension": ".py",
   "mimetype": "text/x-python",
   "name": "python",
   "nbconvert_exporter": "python",
   "pygments_lexer": "ipython3",
   "version": "3.7.1"
  }
 },
 "nbformat": 4,
 "nbformat_minor": 4
}
