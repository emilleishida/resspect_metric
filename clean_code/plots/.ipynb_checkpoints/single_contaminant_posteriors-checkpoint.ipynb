{
 "cells": [
  {
   "cell_type": "code",
   "execution_count": 1,
   "metadata": {},
   "outputs": [],
   "source": [
    "import matplotlib.pylab as plt\n",
    "import pandas as pd\n",
    "import numpy as np\n",
    "\n",
    "from scipy import stats"
   ]
  },
  {
   "cell_type": "code",
   "execution_count": null,
   "metadata": {},
   "outputs": [],
   "source": [
    "data_dir = '/media/RESSPECT/data/PLAsTiCC/for_metrics/final_data/'\n",
    "\n",
    "\n",
    "\n",
    "\n",
    "posteriors = {}\n",
    "density = {}\n",
    "for field in ['DDF', 'WFD']:\n",
    "    \n",
    "    density[field] = {}\n",
    "    posteriors[field] = {}\n",
    "    \n",
    "    for case in ['99SNIa1AGN', '']:\n",
    "        \n",
    "        posteriors[field][size] = {}\n",
    "        posteriors[field][size]['fiducial'] = pd.read_csv(data_dir + field + \\\n",
    "                                                '/v1/posteriors/csv/chains_fiducial' + str(size) + '_lowz_withbias.csv')\n",
    "        posteriors[field][size]['random'] = pd.read_csv(data_dir + field + \\\n",
    "                                                '/v1/posteriors/csv/chains_random' + str(size) + '_lowz_withbias.csv')\n",
    "        posteriors[field][size]['perfect'] = pd.read_csv(data_dir + field + \\\n",
    "                                                '/v1/posteriors/csv/chains_perfect' + str(size) + '_lowz_withbias.csv')\n",
    "    \n",
    "        density[field][size] = {}\n",
    "        density[field][size]['fiducial'] = stats.kde.gaussian_kde(posteriors[field][size]['fiducial']['w'], bw_method=0.3)\n",
    "        density[field][size]['random'] = stats.kde.gaussian_kde(posteriors[field][size]['random']['w'], bw_method=0.3)\n",
    "        density[field][size]['perfect'] = stats.kde.gaussian_kde(posteriors[field][size]['perfect']['w'], bw_method=0.3)"
   ]
  }
 ],
 "metadata": {
  "kernelspec": {
   "display_name": "Python 3",
   "language": "python",
   "name": "python3"
  },
  "language_info": {
   "codemirror_mode": {
    "name": "ipython",
    "version": 3
   },
   "file_extension": ".py",
   "mimetype": "text/x-python",
   "name": "python",
   "nbconvert_exporter": "python",
   "pygments_lexer": "ipython3",
   "version": "3.7.1"
  }
 },
 "nbformat": 4,
 "nbformat_minor": 4
}
