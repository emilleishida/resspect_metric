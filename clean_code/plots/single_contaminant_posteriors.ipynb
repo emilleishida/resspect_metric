{
 "cells": [
  {
   "cell_type": "code",
   "execution_count": 1,
   "metadata": {},
   "outputs": [],
   "source": [
    "import matplotlib.pylab as plt\n",
    "import pandas as pd\n",
    "import numpy as np\n",
    "import seaborn as sns\n",
    "\n",
    "from scipy import stats\n",
    "import os"
   ]
  },
  {
   "cell_type": "code",
   "execution_count": 2,
   "metadata": {},
   "outputs": [],
   "source": [
    "fields = ['WFD', 'DDF']\n",
    "version = '0'\n",
    "size = '3000'\n",
    "\n",
    "data1 = []\n",
    "\n",
    "for field in fields:\n",
    "    \n",
    "    data_dir = '/media/RESSPECT/data/PLAsTiCC/for_metrics/final_data3/' + field + \\\n",
    "                      '/results/v' + version + '/' + str(size) + \\\n",
    "                      '/posteriors/csv/'\n",
    "    \n",
    "    flist = os.listdir(data_dir)\n",
    "    \n",
    "    for i in range(len(flist)):\n",
    "        case = flist[i].replace('chains_','').replace('_lowz_withbias.csv.gz','')\n",
    "        data_temp = pd.read_csv(data_dir + flist[i])\n",
    "        data_temp['field'] = field\n",
    "        data_temp['case'] = case\n",
    "        data1.append(data_temp)\n",
    "        \n",
    "data = pd.concat(data1, ignore_index=True)"
   ]
  },
  {
   "cell_type": "code",
   "execution_count": 3,
   "metadata": {},
   "outputs": [],
   "source": [
    "groups = {}\n",
    "groups['DDF'] = [['99.9SNIa0.1SLSN', '99.4SNIa0.6CART'], ['99SNIa1SNII', '99SNIa1SNIax', '99SNIa1SNIbc'], \n",
    "          ['98SNIa2SNII', '98SNIa2SNIax', '98SNIa2SNIbc'], ['95SNIa5SNII', '95SNIa5SNIax', '95SNIa5SNIbc'],\n",
    "         ['90SNIa10SNIax'], ['72SNIa28SNII', '75SNIa25SNII']]\n",
    "\n",
    "groups['WFD'] = [['99SNIa1AGN', '99SNIa1CART', '99SNIa1SNIa-91bg', '99SNIa1SNIax', \n",
    "                  '99SNIa1SNIbc', '99SNIa1SNII'], ['98SNIa2AGN','98SNIa2SNIa-91bg','98SNIa2SNIax', \n",
    "                 '98SNIa2SNIbc', '98SNIa2SNII'], [ '95SNIa5SNIa-91bg','95SNIa5SNIax', '95SNIa5SNIbc',\n",
    "                  '95SNIa5SNII'], ['90SNIa10SNIax', '90SNIa10SNIbc','90SNIa10SNII'],['72SNIa28SNII', \n",
    "                 '75SNIa25SNII']]"
   ]
  },
  {
   "cell_type": "code",
   "execution_count": 48,
   "metadata": {},
   "outputs": [
    {
     "data": {
      "text/html": [
       "<div>\n",
       "<style scoped>\n",
       "    .dataframe tbody tr th:only-of-type {\n",
       "        vertical-align: middle;\n",
       "    }\n",
       "\n",
       "    .dataframe tbody tr th {\n",
       "        vertical-align: top;\n",
       "    }\n",
       "\n",
       "    .dataframe thead th {\n",
       "        text-align: right;\n",
       "    }\n",
       "</style>\n",
       "<table border=\"1\" class=\"dataframe\">\n",
       "  <thead>\n",
       "    <tr style=\"text-align: right;\">\n",
       "      <th></th>\n",
       "      <th>om</th>\n",
       "      <th>w</th>\n",
       "      <th>field</th>\n",
       "      <th>case</th>\n",
       "    </tr>\n",
       "  </thead>\n",
       "  <tbody>\n",
       "    <tr>\n",
       "      <th>360000</th>\n",
       "      <td>0.297893</td>\n",
       "      <td>-0.984712</td>\n",
       "      <td>DDF</td>\n",
       "      <td>99.4SNIa0.6CART</td>\n",
       "    </tr>\n",
       "    <tr>\n",
       "      <th>360001</th>\n",
       "      <td>0.305384</td>\n",
       "      <td>-1.016942</td>\n",
       "      <td>DDF</td>\n",
       "      <td>99.4SNIa0.6CART</td>\n",
       "    </tr>\n",
       "    <tr>\n",
       "      <th>360002</th>\n",
       "      <td>0.306930</td>\n",
       "      <td>-1.011657</td>\n",
       "      <td>DDF</td>\n",
       "      <td>99.4SNIa0.6CART</td>\n",
       "    </tr>\n",
       "    <tr>\n",
       "      <th>360003</th>\n",
       "      <td>0.299487</td>\n",
       "      <td>-0.988312</td>\n",
       "      <td>DDF</td>\n",
       "      <td>99.4SNIa0.6CART</td>\n",
       "    </tr>\n",
       "    <tr>\n",
       "      <th>360004</th>\n",
       "      <td>0.309512</td>\n",
       "      <td>-1.032219</td>\n",
       "      <td>DDF</td>\n",
       "      <td>99.4SNIa0.6CART</td>\n",
       "    </tr>\n",
       "    <tr>\n",
       "      <th>...</th>\n",
       "      <td>...</td>\n",
       "      <td>...</td>\n",
       "      <td>...</td>\n",
       "      <td>...</td>\n",
       "    </tr>\n",
       "    <tr>\n",
       "      <th>419995</th>\n",
       "      <td>0.303195</td>\n",
       "      <td>-0.995896</td>\n",
       "      <td>DDF</td>\n",
       "      <td>99.9SNIa0.1SLSN</td>\n",
       "    </tr>\n",
       "    <tr>\n",
       "      <th>419996</th>\n",
       "      <td>0.293562</td>\n",
       "      <td>-0.970607</td>\n",
       "      <td>DDF</td>\n",
       "      <td>99.9SNIa0.1SLSN</td>\n",
       "    </tr>\n",
       "    <tr>\n",
       "      <th>419997</th>\n",
       "      <td>0.308697</td>\n",
       "      <td>-1.014368</td>\n",
       "      <td>DDF</td>\n",
       "      <td>99.9SNIa0.1SLSN</td>\n",
       "    </tr>\n",
       "    <tr>\n",
       "      <th>419998</th>\n",
       "      <td>0.292744</td>\n",
       "      <td>-0.982638</td>\n",
       "      <td>DDF</td>\n",
       "      <td>99.9SNIa0.1SLSN</td>\n",
       "    </tr>\n",
       "    <tr>\n",
       "      <th>419999</th>\n",
       "      <td>0.296798</td>\n",
       "      <td>-0.988186</td>\n",
       "      <td>DDF</td>\n",
       "      <td>99.9SNIa0.1SLSN</td>\n",
       "    </tr>\n",
       "  </tbody>\n",
       "</table>\n",
       "<p>20000 rows × 4 columns</p>\n",
       "</div>"
      ],
      "text/plain": [
       "              om         w field             case\n",
       "360000  0.297893 -0.984712   DDF  99.4SNIa0.6CART\n",
       "360001  0.305384 -1.016942   DDF  99.4SNIa0.6CART\n",
       "360002  0.306930 -1.011657   DDF  99.4SNIa0.6CART\n",
       "360003  0.299487 -0.988312   DDF  99.4SNIa0.6CART\n",
       "360004  0.309512 -1.032219   DDF  99.4SNIa0.6CART\n",
       "...          ...       ...   ...              ...\n",
       "419995  0.303195 -0.995896   DDF  99.9SNIa0.1SLSN\n",
       "419996  0.293562 -0.970607   DDF  99.9SNIa0.1SLSN\n",
       "419997  0.308697 -1.014368   DDF  99.9SNIa0.1SLSN\n",
       "419998  0.292744 -0.982638   DDF  99.9SNIa0.1SLSN\n",
       "419999  0.296798 -0.988186   DDF  99.9SNIa0.1SLSN\n",
       "\n",
       "[20000 rows x 4 columns]"
      ]
     },
     "execution_count": 48,
     "metadata": {},
     "output_type": "execute_result"
    }
   ],
   "source": [
    "data[flag]"
   ]
  },
  {
   "cell_type": "code",
   "execution_count": 4,
   "metadata": {},
   "outputs": [
    {
     "ename": "ValueError",
     "evalue": "Could not interpret value `case` for parameter `hue`",
     "output_type": "error",
     "traceback": [
      "\u001b[0;31m---------------------------------------------------------------------------\u001b[0m",
      "\u001b[0;31mValueError\u001b[0m                                Traceback (most recent call last)",
      "\u001b[0;32m<ipython-input-4-94bedb945d6d>\u001b[0m in \u001b[0;36m<module>\u001b[0;34m\u001b[0m\n\u001b[1;32m      8\u001b[0m \u001b[0;34m\u001b[0m\u001b[0m\n\u001b[1;32m      9\u001b[0m \u001b[0mfig\u001b[0m\u001b[0;34m,\u001b[0m \u001b[0maxes\u001b[0m \u001b[0;34m=\u001b[0m \u001b[0mplt\u001b[0m\u001b[0;34m.\u001b[0m\u001b[0msubplots\u001b[0m\u001b[0;34m(\u001b[0m\u001b[0;36m1\u001b[0m\u001b[0;34m,\u001b[0m \u001b[0;36m2\u001b[0m\u001b[0;34m,\u001b[0m \u001b[0msharey\u001b[0m\u001b[0;34m=\u001b[0m\u001b[0;32mTrue\u001b[0m\u001b[0;34m,\u001b[0m \u001b[0msharex\u001b[0m\u001b[0;34m=\u001b[0m\u001b[0;32mTrue\u001b[0m\u001b[0;34m,\u001b[0m \u001b[0mfigsize\u001b[0m\u001b[0;34m=\u001b[0m\u001b[0;34m(\u001b[0m\u001b[0;36m16\u001b[0m\u001b[0;34m,\u001b[0m\u001b[0;36m5\u001b[0m\u001b[0;34m)\u001b[0m\u001b[0;34m)\u001b[0m\u001b[0;34m\u001b[0m\u001b[0;34m\u001b[0m\u001b[0m\n\u001b[0;32m---> 10\u001b[0;31m \u001b[0msns\u001b[0m\u001b[0;34m.\u001b[0m\u001b[0mkdeplot\u001b[0m\u001b[0;34m(\u001b[0m\u001b[0mdata\u001b[0m\u001b[0;34m[\u001b[0m\u001b[0mflag\u001b[0m\u001b[0;34m]\u001b[0m\u001b[0;34m,\u001b[0m \u001b[0mx\u001b[0m\u001b[0;34m=\u001b[0m\u001b[0;34m\"w\"\u001b[0m\u001b[0;34m,\u001b[0m \u001b[0mhue\u001b[0m\u001b[0;34m=\u001b[0m\u001b[0;34m\"case\"\u001b[0m\u001b[0;34m,\u001b[0m \u001b[0mbw_adjust\u001b[0m\u001b[0;34m=\u001b[0m\u001b[0;36m1.75\u001b[0m\u001b[0;34m)\u001b[0m\u001b[0;34m\u001b[0m\u001b[0;34m\u001b[0m\u001b[0m\n\u001b[0m\u001b[1;32m     11\u001b[0m \u001b[0msns\u001b[0m\u001b[0;34m.\u001b[0m\u001b[0mmove_legend\u001b[0m\u001b[0;34m(\u001b[0m\u001b[0max\u001b[0m\u001b[0;34m,\u001b[0m \u001b[0;34m\"upper left\"\u001b[0m\u001b[0;34m)\u001b[0m\u001b[0;34m\u001b[0m\u001b[0;34m\u001b[0m\u001b[0m\n\u001b[1;32m     12\u001b[0m \u001b[0max\u001b[0m\u001b[0;34m.\u001b[0m\u001b[0mset\u001b[0m\u001b[0;34m(\u001b[0m\u001b[0mxlim\u001b[0m\u001b[0;34m=\u001b[0m\u001b[0;34m[\u001b[0m\u001b[0;34m-\u001b[0m\u001b[0;36m1.25\u001b[0m\u001b[0;34m,\u001b[0m \u001b[0;34m-\u001b[0m\u001b[0;36m0.9\u001b[0m\u001b[0;34m]\u001b[0m\u001b[0;34m)\u001b[0m\u001b[0;34m\u001b[0m\u001b[0;34m\u001b[0m\u001b[0m\n",
      "\u001b[0;32m/media/emille/git/COIN/RESSPECT_repo/venv/resspect_main/lib/python3.7/site-packages/seaborn/_decorators.py\u001b[0m in \u001b[0;36minner_f\u001b[0;34m(*args, **kwargs)\u001b[0m\n\u001b[1;32m     44\u001b[0m             )\n\u001b[1;32m     45\u001b[0m         \u001b[0mkwargs\u001b[0m\u001b[0;34m.\u001b[0m\u001b[0mupdate\u001b[0m\u001b[0;34m(\u001b[0m\u001b[0;34m{\u001b[0m\u001b[0mk\u001b[0m\u001b[0;34m:\u001b[0m \u001b[0marg\u001b[0m \u001b[0;32mfor\u001b[0m \u001b[0mk\u001b[0m\u001b[0;34m,\u001b[0m \u001b[0marg\u001b[0m \u001b[0;32min\u001b[0m \u001b[0mzip\u001b[0m\u001b[0;34m(\u001b[0m\u001b[0msig\u001b[0m\u001b[0;34m.\u001b[0m\u001b[0mparameters\u001b[0m\u001b[0;34m,\u001b[0m \u001b[0margs\u001b[0m\u001b[0;34m)\u001b[0m\u001b[0;34m}\u001b[0m\u001b[0;34m)\u001b[0m\u001b[0;34m\u001b[0m\u001b[0;34m\u001b[0m\u001b[0m\n\u001b[0;32m---> 46\u001b[0;31m         \u001b[0;32mreturn\u001b[0m \u001b[0mf\u001b[0m\u001b[0;34m(\u001b[0m\u001b[0;34m**\u001b[0m\u001b[0mkwargs\u001b[0m\u001b[0;34m)\u001b[0m\u001b[0;34m\u001b[0m\u001b[0;34m\u001b[0m\u001b[0m\n\u001b[0m\u001b[1;32m     47\u001b[0m     \u001b[0;32mreturn\u001b[0m \u001b[0minner_f\u001b[0m\u001b[0;34m\u001b[0m\u001b[0;34m\u001b[0m\u001b[0m\n\u001b[1;32m     48\u001b[0m \u001b[0;34m\u001b[0m\u001b[0m\n",
      "\u001b[0;32m/media/emille/git/COIN/RESSPECT_repo/venv/resspect_main/lib/python3.7/site-packages/seaborn/distributions.py\u001b[0m in \u001b[0;36mkdeplot\u001b[0;34m(x, y, shade, vertical, kernel, bw, gridsize, cut, clip, legend, cumulative, shade_lowest, cbar, cbar_ax, cbar_kws, ax, weights, hue, palette, hue_order, hue_norm, multiple, common_norm, common_grid, levels, thresh, bw_method, bw_adjust, log_scale, color, fill, data, data2, warn_singular, **kwargs)\u001b[0m\n\u001b[1;32m   1738\u001b[0m     p = _DistributionPlotter(\n\u001b[1;32m   1739\u001b[0m         \u001b[0mdata\u001b[0m\u001b[0;34m=\u001b[0m\u001b[0mdata\u001b[0m\u001b[0;34m,\u001b[0m\u001b[0;34m\u001b[0m\u001b[0;34m\u001b[0m\u001b[0m\n\u001b[0;32m-> 1740\u001b[0;31m         \u001b[0mvariables\u001b[0m\u001b[0;34m=\u001b[0m\u001b[0m_DistributionPlotter\u001b[0m\u001b[0;34m.\u001b[0m\u001b[0mget_semantics\u001b[0m\u001b[0;34m(\u001b[0m\u001b[0mlocals\u001b[0m\u001b[0;34m(\u001b[0m\u001b[0;34m)\u001b[0m\u001b[0;34m)\u001b[0m\u001b[0;34m,\u001b[0m\u001b[0;34m\u001b[0m\u001b[0;34m\u001b[0m\u001b[0m\n\u001b[0m\u001b[1;32m   1741\u001b[0m     )\n\u001b[1;32m   1742\u001b[0m \u001b[0;34m\u001b[0m\u001b[0m\n",
      "\u001b[0;32m/media/emille/git/COIN/RESSPECT_repo/venv/resspect_main/lib/python3.7/site-packages/seaborn/distributions.py\u001b[0m in \u001b[0;36m__init__\u001b[0;34m(self, data, variables)\u001b[0m\n\u001b[1;32m    109\u001b[0m     ):\n\u001b[1;32m    110\u001b[0m \u001b[0;34m\u001b[0m\u001b[0m\n\u001b[0;32m--> 111\u001b[0;31m         \u001b[0msuper\u001b[0m\u001b[0;34m(\u001b[0m\u001b[0;34m)\u001b[0m\u001b[0;34m.\u001b[0m\u001b[0m__init__\u001b[0m\u001b[0;34m(\u001b[0m\u001b[0mdata\u001b[0m\u001b[0;34m=\u001b[0m\u001b[0mdata\u001b[0m\u001b[0;34m,\u001b[0m \u001b[0mvariables\u001b[0m\u001b[0;34m=\u001b[0m\u001b[0mvariables\u001b[0m\u001b[0;34m)\u001b[0m\u001b[0;34m\u001b[0m\u001b[0;34m\u001b[0m\u001b[0m\n\u001b[0m\u001b[1;32m    112\u001b[0m \u001b[0;34m\u001b[0m\u001b[0m\n\u001b[1;32m    113\u001b[0m     \u001b[0;34m@\u001b[0m\u001b[0mproperty\u001b[0m\u001b[0;34m\u001b[0m\u001b[0;34m\u001b[0m\u001b[0m\n",
      "\u001b[0;32m/media/emille/git/COIN/RESSPECT_repo/venv/resspect_main/lib/python3.7/site-packages/seaborn/_core.py\u001b[0m in \u001b[0;36m__init__\u001b[0;34m(self, data, variables)\u001b[0m\n\u001b[1;32m    603\u001b[0m     \u001b[0;32mdef\u001b[0m \u001b[0m__init__\u001b[0m\u001b[0;34m(\u001b[0m\u001b[0mself\u001b[0m\u001b[0;34m,\u001b[0m \u001b[0mdata\u001b[0m\u001b[0;34m=\u001b[0m\u001b[0;32mNone\u001b[0m\u001b[0;34m,\u001b[0m \u001b[0mvariables\u001b[0m\u001b[0;34m=\u001b[0m\u001b[0;34m{\u001b[0m\u001b[0;34m}\u001b[0m\u001b[0;34m)\u001b[0m\u001b[0;34m:\u001b[0m\u001b[0;34m\u001b[0m\u001b[0;34m\u001b[0m\u001b[0m\n\u001b[1;32m    604\u001b[0m \u001b[0;34m\u001b[0m\u001b[0m\n\u001b[0;32m--> 605\u001b[0;31m         \u001b[0mself\u001b[0m\u001b[0;34m.\u001b[0m\u001b[0massign_variables\u001b[0m\u001b[0;34m(\u001b[0m\u001b[0mdata\u001b[0m\u001b[0;34m,\u001b[0m \u001b[0mvariables\u001b[0m\u001b[0;34m)\u001b[0m\u001b[0;34m\u001b[0m\u001b[0;34m\u001b[0m\u001b[0m\n\u001b[0m\u001b[1;32m    606\u001b[0m \u001b[0;34m\u001b[0m\u001b[0m\n\u001b[1;32m    607\u001b[0m         \u001b[0;32mfor\u001b[0m \u001b[0mvar\u001b[0m\u001b[0;34m,\u001b[0m \u001b[0mcls\u001b[0m \u001b[0;32min\u001b[0m \u001b[0mself\u001b[0m\u001b[0;34m.\u001b[0m\u001b[0m_semantic_mappings\u001b[0m\u001b[0;34m.\u001b[0m\u001b[0mitems\u001b[0m\u001b[0;34m(\u001b[0m\u001b[0;34m)\u001b[0m\u001b[0;34m:\u001b[0m\u001b[0;34m\u001b[0m\u001b[0;34m\u001b[0m\u001b[0m\n",
      "\u001b[0;32m/media/emille/git/COIN/RESSPECT_repo/venv/resspect_main/lib/python3.7/site-packages/seaborn/_core.py\u001b[0m in \u001b[0;36massign_variables\u001b[0;34m(self, data, variables)\u001b[0m\n\u001b[1;32m    667\u001b[0m             \u001b[0mself\u001b[0m\u001b[0;34m.\u001b[0m\u001b[0minput_format\u001b[0m \u001b[0;34m=\u001b[0m \u001b[0;34m\"long\"\u001b[0m\u001b[0;34m\u001b[0m\u001b[0;34m\u001b[0m\u001b[0m\n\u001b[1;32m    668\u001b[0m             plot_data, variables = self._assign_variables_longform(\n\u001b[0;32m--> 669\u001b[0;31m                 \u001b[0mdata\u001b[0m\u001b[0;34m,\u001b[0m \u001b[0;34m**\u001b[0m\u001b[0mvariables\u001b[0m\u001b[0;34m,\u001b[0m\u001b[0;34m\u001b[0m\u001b[0;34m\u001b[0m\u001b[0m\n\u001b[0m\u001b[1;32m    670\u001b[0m             )\n\u001b[1;32m    671\u001b[0m \u001b[0;34m\u001b[0m\u001b[0m\n",
      "\u001b[0;32m/media/emille/git/COIN/RESSPECT_repo/venv/resspect_main/lib/python3.7/site-packages/seaborn/_core.py\u001b[0m in \u001b[0;36m_assign_variables_longform\u001b[0;34m(self, data, **kwargs)\u001b[0m\n\u001b[1;32m    901\u001b[0m \u001b[0;34m\u001b[0m\u001b[0m\n\u001b[1;32m    902\u001b[0m                 \u001b[0merr\u001b[0m \u001b[0;34m=\u001b[0m \u001b[0;34mf\"Could not interpret value `{val}` for parameter `{key}`\"\u001b[0m\u001b[0;34m\u001b[0m\u001b[0;34m\u001b[0m\u001b[0m\n\u001b[0;32m--> 903\u001b[0;31m                 \u001b[0;32mraise\u001b[0m \u001b[0mValueError\u001b[0m\u001b[0;34m(\u001b[0m\u001b[0merr\u001b[0m\u001b[0;34m)\u001b[0m\u001b[0;34m\u001b[0m\u001b[0;34m\u001b[0m\u001b[0m\n\u001b[0m\u001b[1;32m    904\u001b[0m \u001b[0;34m\u001b[0m\u001b[0m\n\u001b[1;32m    905\u001b[0m             \u001b[0;32melse\u001b[0m\u001b[0;34m:\u001b[0m\u001b[0;34m\u001b[0m\u001b[0;34m\u001b[0m\u001b[0m\n",
      "\u001b[0;31mValueError\u001b[0m: Could not interpret value `case` for parameter `hue`"
     ]
    },
    {
     "data": {
      "image/png": "[encoded data removed]",
      "text/plain": [
       "<Figure size 1152x360 with 2 Axes>"
      ]
     },
     "metadata": {},
     "output_type": "display_data"
    }
   ],
   "source": [
    "field = 'DDF'\n",
    "i = 0\n",
    "\n",
    "sns.set_style(\"ticks\")\n",
    "\n",
    "flag = np.logical_and(data['case'].isin(groups[field][i]),\n",
    "                     data['field'] == 'DDF')\n",
    "\n",
    "fig, axes = plt.subplots(1, 2, sharey=True, sharex=True, figsize=(16,5))\n",
    "sns.kdeplot(data[flag], x=\"w\", hue=\"case\", bw_adjust=1.75)\n",
    "sns.move_legend(ax, \"upper left\")\n",
    "ax.set(xlim=[-1.25, -0.9])\n",
    "ax._legend.set_bbox_to_anchor((0.1, 0.95))\n",
    "\n",
    "plt.show()"
   ]
  },
  {
   "cell_type": "code",
   "execution_count": 2,
   "metadata": {},
   "outputs": [],
   "source": [
    "data_dir = '/media/RESSPECT/data/PLAsTiCC/for_metrics/final_data3/'\n",
    "size = 3000\n",
    "version = '0'\n",
    "\n",
    "posteriors = {}\n",
    "density = {}\n",
    "for field in ['DDF']:\n",
    "    \n",
    "    density[field] = {}\n",
    "    posteriors[field] = {}\n",
    "    \n",
    "    for case in ['perfect']:\n",
    "        \n",
    "        posteriors[field][size] = {}\n",
    "        posteriors[field][size]['fiducial'] = pd.read_csv(data_dir + field + \\\n",
    "                                                '/results/v' + version + '/' + str(size) +\\\n",
    "                                                '/posteriors/csv/chains_fiducial' + str(size) + '_lowz_withbias.csv.gz')\n",
    "        posteriors[field][size]['random'] = pd.read_csv(data_dir + field + \\\n",
    "                                                '/results/v' + version + '/' + str(size) + \\\n",
    "                                                '/posteriors/csv/chains_random' + str(size) + '_lowz_withbias.csv.gz')\n",
    "        posteriors[field][size]['perfect'] = pd.read_csv(data_dir + field + \\\n",
    "                                                '/results/v' + version + '/' + str(size) + \\\n",
    "                                                '/posteriors/csv/chains_perfect' + str(size) + '_lowz_withbias.csv.gz')\n",
    "    \n",
    "        density[field][size] = {}\n",
    "        density[field][size]['fiducial'] = stats.kde.gaussian_kde(posteriors[field][size]['fiducial']['w'], bw_method=0.3)\n",
    "        density[field][size]['random'] = stats.kde.gaussian_kde(posteriors[field][size]['random']['w'], bw_method=0.3)\n",
    "        density[field][size]['perfect'] = stats.kde.gaussian_kde(posteriors[field][size]['perfect']['w'], bw_method=0.3)"
   ]
  },
  {
   "cell_type": "code",
   "execution_count": 4,
   "metadata": {},
   "outputs": [
    {
     "data": {
      "text/plain": [
       "{'DDF': {3000: {'fiducial': <scipy.stats.kde.gaussian_kde at 0x7f52d98fc978>,\n",
       "   'random': <scipy.stats.kde.gaussian_kde at 0x7f52d989bdd8>,\n",
       "   'perfect': <scipy.stats.kde.gaussian_kde at 0x7f52d989bf28>}}}"
      ]
     },
     "execution_count": 4,
     "metadata": {},
     "output_type": "execute_result"
    }
   ],
   "source": [
    "density"
   ]
  },
  {
   "cell_type": "code",
   "execution_count": 3,
   "metadata": {},
   "outputs": [
    {
     "data": {
      "image/png": "[encoded data removed]",
      "text/plain": [
       "<Figure size 432x288 with 1 Axes>"
      ]
     },
     "metadata": {
      "needs_background": "light"
     },
     "output_type": "display_data"
    }
   ],
   "source": [
    "xaxis = np.arange(-2,0,0.002)\n",
    "\n",
    "plt.figure()\n",
    "plt.plot(xaxis, density['DDF'][3000]['perfect'].evaluate(xaxis))\n",
    "plt.show()"
   ]
  },
  {
   "cell_type": "code",
   "execution_count": null,
   "metadata": {},
   "outputs": [],
   "source": []
  }
 ],
 "metadata": {
  "kernelspec": {
   "display_name": "Python 3",
   "language": "python",
   "name": "python3"
  },
  "language_info": {
   "codemirror_mode": {
    "name": "ipython",
    "version": 3
   },
   "file_extension": ".py",
   "mimetype": "text/x-python",
   "name": "python",
   "nbconvert_exporter": "python",
   "pygments_lexer": "ipython3",
   "version": "3.7.1"
  }
 },
 "nbformat": 4,
 "nbformat_minor": 4
}
