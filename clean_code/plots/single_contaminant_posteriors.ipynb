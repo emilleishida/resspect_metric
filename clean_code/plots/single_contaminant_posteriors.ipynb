{
 "cells": [
  {
   "cell_type": "code",
   "execution_count": null,
   "metadata": {},
   "outputs": [],
   "source": [
    "import matplotlib.pylab as plt\n",
    "import pandas as pd\n",
    "import numpy as np\n",
    "import seaborn as sns\n",
    "\n",
    "from scipy import stats\n",
    "import os"
   ]
  },
  {
   "cell_type": "code",
   "execution_count": null,
   "metadata": {},
   "outputs": [],
   "source": [
    "fields = ['WFD', 'DDF']\n",
    "version = '0'\n",
    "size = '3000'\n",
    "\n",
    "data1 = []\n",
    "\n",
    "for field in fields:\n",
    "    \n",
    "    data_dir = '/media/RESSPECT/data/PLAsTiCC/for_metrics/final_data3/' + field + \\\n",
    "                      '/results/v' + version + '/' + str(size) + \\\n",
    "                      '/posteriors/csv/'\n",
    "    \n",
    "    flist = os.listdir(data_dir)\n",
    "    \n",
    "    for i in range(len(flist)):\n",
    "        case = flist[i].replace('chains_','').replace('_lowz_withbias.csv.gz','')\n",
    "        data_temp = pd.read_csv(data_dir + flist[i])\n",
    "        data_temp['field'] = field\n",
    "        data_temp['case'] = case\n",
    "        data1.append(data_temp)\n",
    "        \n",
    "data = pd.concat(data1, ignore_index=True)"
   ]
  },
  {
   "cell_type": "code",
   "execution_count": null,
   "metadata": {},
   "outputs": [],
   "source": [
    "groups = {}\n",
    "groups['DDF'] = [['99.9SNIa0.1SLSN', '99.4SNIa0.6CART'], ['99SNIa1SNII', '99SNIa1SNIax', '99SNIa1SNIbc'], \n",
    "          ['98SNIa2SNII', '98SNIa2SNIax', '98SNIa2SNIbc'], ['95SNIa5SNII', '95SNIa5SNIax', '95SNIa5SNIbc'],\n",
    "         ['90SNIa10SNIax'], ['72SNIa28SNII', '75SNIa25SNII']]\n",
    "\n",
    "groups['WFD'] = [['99SNIa1AGN', '99SNIa1CART', '99SNIa1SNIa-91bg', '99SNIa1SNIax', \n",
    "                  '99SNIa1SNIbc', '99SNIa1SNII'], ['98SNIa2AGN','98SNIa2SNIa-91bg','98SNIa2SNIax', \n",
    "                 '98SNIa2SNIbc', '98SNIa2SNII'], [ '95SNIa5SNIa-91bg','95SNIa5SNIax', '95SNIa5SNIbc',\n",
    "                  '95SNIa5SNII'], ['90SNIa10SNIax', '90SNIa10SNIbc','90SNIa10SNII'],['72SNIa28SNII', \n",
    "                 '75SNIa25SNII']]"
   ]
  },
  {
   "cell_type": "code",
   "execution_count": null,
   "metadata": {},
   "outputs": [],
   "source": [
    "data[flag]"
   ]
  },
  {
   "cell_type": "code",
   "execution_count": null,
   "metadata": {},
   "outputs": [],
   "source": [
    "field = 'DDF'\n",
    "i = 0\n",
    "\n",
    "sns.set_style(\"ticks\")\n",
    "\n",
    "flag = np.logical_and(data['case'].isin(groups[field][i]),\n",
    "                     data['field'] == 'DDF')\n",
    "\n",
    "fig, axes = plt.subplots(1, 2, sharey=True, sharex=True, figsize=(16,5))\n",
    "sns.kdeplot(data[flag], x=\"w\", hue=\"case\", bw_adjust=1.75)\n",
    "sns.move_legend(ax, \"upper left\")\n",
    "ax.set(xlim=[-1.25, -0.9])\n",
    "ax._legend.set_bbox_to_anchor((0.1, 0.95))\n",
    "\n",
    "plt.show()"
   ]
  },
  {
   "cell_type": "code",
   "execution_count": null,
   "metadata": {},
   "outputs": [],
   "source": [
    "data_dir = '/media/RESSPECT/data/PLAsTiCC/for_metrics/final_data3/'\n",
    "size = 3000\n",
    "version = '0'\n",
    "\n",
    "posteriors = {}\n",
    "density = {}\n",
    "for field in ['DDF']:\n",
    "    \n",
    "    density[field] = {}\n",
    "    posteriors[field] = {}\n",
    "    \n",
    "    for case in ['perfect']:\n",
    "        \n",
    "        posteriors[field][size] = {}\n",
    "        posteriors[field][size]['fiducial'] = pd.read_csv(data_dir + field + \\\n",
    "                                                '/results/v' + version + '/' + str(size) +\\\n",
    "                                                '/posteriors/csv/chains_fiducial' + str(size) + '_lowz_withbias.csv.gz')\n",
    "        posteriors[field][size]['random'] = pd.read_csv(data_dir + field + \\\n",
    "                                                '/results/v' + version + '/' + str(size) + \\\n",
    "                                                '/posteriors/csv/chains_random' + str(size) + '_lowz_withbias.csv.gz')\n",
    "        posteriors[field][size]['perfect'] = pd.read_csv(data_dir + field + \\\n",
    "                                                '/results/v' + version + '/' + str(size) + \\\n",
    "                                                '/posteriors/csv/chains_perfect' + str(size) + '_lowz_withbias.csv.gz')\n",
    "    \n",
    "        density[field][size] = {}\n",
    "        density[field][size]['fiducial'] = stats.kde.gaussian_kde(posteriors[field][size]['fiducial']['w'], bw_method=0.3)\n",
    "        density[field][size]['random'] = stats.kde.gaussian_kde(posteriors[field][size]['random']['w'], bw_method=0.3)\n",
    "        density[field][size]['perfect'] = stats.kde.gaussian_kde(posteriors[field][size]['perfect']['w'], bw_method=0.3)"
   ]
  },
  {
   "cell_type": "code",
   "execution_count": null,
   "metadata": {},
   "outputs": [],
   "source": [
    "density"
   ]
  },
  {
   "cell_type": "code",
   "execution_count": null,
   "metadata": {},
   "outputs": [],
   "source": [
    "xaxis = np.arange(-2,0,0.002)\n",
    "\n",
    "plt.figure()\n",
    "plt.plot(xaxis, density['DDF'][3000]['perfect'].evaluate(xaxis))\n",
    "plt.show()"
   ]
  },
  {
   "cell_type": "code",
   "execution_count": null,
   "metadata": {},
   "outputs": [],
   "source": []
  }
 ],
 "metadata": {
  "kernelspec": {
   "display_name": "Python 3",
   "language": "python",
   "name": "python3"
  },
  "language_info": {
   "codemirror_mode": {
    "name": "ipython",
    "version": 3
   },
   "file_extension": ".py",
   "mimetype": "text/x-python",
   "name": "python",
   "nbconvert_exporter": "python",
   "pygments_lexer": "ipython3",
   "version": "3.7.1"
  }
 },
 "nbformat": 4,
 "nbformat_minor": 4
}
