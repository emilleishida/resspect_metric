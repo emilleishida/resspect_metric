{
 "cells": [
  {
   "cell_type": "code",
   "execution_count": null,
   "metadata": {},
   "outputs": [],
   "source": [
    "import pandas as pd\n",
    "import numpy as np\n",
    "import matplotlib.pylab as plt\n",
    "import glob\n",
    "import seaborn as sns"
   ]
  },
  {
   "cell_type": "code",
   "execution_count": null,
   "metadata": {},
   "outputs": [],
   "source": [
    "field = 'DDF'"
   ]
  },
  {
   "cell_type": "code",
   "execution_count": null,
   "metadata": {},
   "outputs": [],
   "source": [
    "types = {}\n",
    "types['DDF'] = ['II', 'Ibc', 'Iax', 'Ia', 'CART', 'SLSN']\n",
    "types['WFD'] = ['II', 'Ibc', 'Iax', 'Ia', '91bg', 'CART', 'AGN']"
   ]
  },
  {
   "cell_type": "code",
   "execution_count": null,
   "metadata": {},
   "outputs": [],
   "source": [
    "data_all = {}\n",
    "data_all['DDF'] = []\n",
    "data_all['WFD'] = []\n",
    "\n",
    "for field in ['DDF', 'WFD']:\n",
    "    for group in types[field]:\n",
    "        flist = glob.glob('/media/RESSPECT/data/PLAsTiCC/for_metrics/final_data3/' + field + '/SALT2_fit/' + group + '/fitres/master_fitres_*.fitres')\n",
    "    \n",
    "        for fname in flist:\n",
    "            try:\n",
    "                data = pd.read_csv(fname, comment='#', delim_whitespace=True)\n",
    "                data['type'] = group\n",
    "                data_all[field].append(data[['mB', 'type']])\n",
    "            except ValueError:\n",
    "                pass \n",
    "    \n",
    "data2 = {}\n",
    "data2['DDF'] = pd.concat(data_all['DDF'], ignore_index=True)\n",
    "data2['WFD'] = pd.concat(data_all['WFD'], ignore_index=True)"
   ]
  },
  {
   "cell_type": "code",
   "execution_count": null,
   "metadata": {},
   "outputs": [],
   "source": [
    "np.unique(data2['DDF']['type'].values, return_counts=True)"
   ]
  },
  {
   "cell_type": "code",
   "execution_count": null,
   "metadata": {},
   "outputs": [],
   "source": [
    "np.unique(data2['WFD']['type'].values, return_counts=True)"
   ]
  },
  {
   "cell_type": "code",
   "execution_count": null,
   "metadata": {},
   "outputs": [],
   "source": [
    "bins1 = np.linspace(18, 27, 30)\n",
    "bins2 = np.linspace(18, 25, 30)\n",
    "\n",
    "plt.figure(figsize=(8,10))\n",
    "plt.subplot(2,1,1)\n",
    "plt.title('DDF')\n",
    "plt.hist(data2['DDF']['mB'], label='total', density=False, histtype='step', color='black', bins=bins1, lw=2)\n",
    "plt.hist(data2['DDF'][data2['DDF']['type'] == 'Ia']['mB'], label='Ia', density=False,  bins=bins1, histtype='step', lw=2, color='red')\n",
    "plt.hist(data2['DDF'][data2['DDF']['type'] == 'II']['mB'], label='II', density=False, bins=bins1, histtype='stepfilled', color='blue', alpha=0.25)\n",
    "plt.hist(data2['DDF'][data2['DDF']['type'] == 'Iax']['mB'], label='Iax', density=False,  bins=bins1, histtype='stepfilled', color='green', alpha=0.5)\n",
    "plt.hist(data2['DDF'][data2['DDF']['type'] == 'Ibc']['mB'], label='Ibc', density=False, bins=bins1, histtype='stepfilled', color='brown', alpha=0.5)\n",
    "plt.hist(data2['DDF'][data2['DDF']['type'] == 'CART']['mB'], label='CART', bins=bins1, density=False,  histtype='stepfilled', color='purple', alpha=0.5)\n",
    "plt.legend(loc='upper left')\n",
    "plt.xlabel('mB')\n",
    "plt.ylabel('N')\n",
    "\n",
    "plt.subplot(2,1,2)\n",
    "plt.title('WFD')\n",
    "plt.hist(data2['WFD']['mB'], label='total', density=False, histtype='step', color='black', bins=bins2, lw=2)\n",
    "plt.hist(data2['WFD'][data2['WFD']['type'] == 'Ia']['mB'], label='Ia', density=False,  bins=bins2, histtype='step', lw=2, color='red')\n",
    "plt.hist(data2['WFD'][data2['WFD']['type'] == 'II']['mB'], label='II', density=False, bins=bins2, histtype='stepfilled', color='blue', alpha=0.25)\n",
    "plt.hist(data2['WFD'][data2['WFD']['type'] == 'Iax']['mB'], label='Iax', density=False,  bins=bins2, histtype='stepfilled', color='green', alpha=0.5)\n",
    "plt.hist(data2['WFD'][data2['WFD']['type'] == 'Ibc']['mB'], label='Ibc', density=False, bins=bins2, histtype='stepfilled', color='brown', alpha=0.5)\n",
    "plt.hist(data2['WFD'][data2['WFD']['type'] == 'CART']['mB'], label='CART', bins=bins2, density=False,  histtype='stepfilled', color='purple', alpha=0.5)\n",
    "plt.legend(loc='upper left')\n",
    "plt.xlabel('mB')\n",
    "plt.ylabel('N')\n",
    "\n",
    "plt.subplots_adjust(hspace=0.3)\n",
    "plt.savefig('mB.png')"
   ]
  },
  {
   "cell_type": "code",
   "execution_count": null,
   "metadata": {},
   "outputs": [],
   "source": [
    "bins1 = np.linspace(18, 27, 30)\n",
    "bins2 = np.linspace(18, 25, 30)\n",
    "\n",
    "plt.figure(figsize=(8,10))\n",
    "plt.subplot(2,1,1)\n",
    "plt.title('DDF')\n",
    "plt.hist(data2['DDF']['mB'], label='total', density=False, histtype='step', color='black', bins=bins1, lw=2)\n",
    "plt.hist(data2['DDF'][data2['DDF']['type'] == 'Ia']['mB'], label='Ia', density=False,  bins=bins1, histtype='step', lw=2, color='red')\n",
    "plt.hist(data2['DDF'][data2['DDF']['type'] == 'II']['mB'], label='II', density=False, bins=bins1, histtype='stepfilled', color='blue', alpha=0.25)\n",
    "plt.hist(data2['DDF'][data2['DDF']['type'] == 'Iax']['mB'], label='Iax', density=False,  bins=bins1, histtype='stepfilled', color='green', alpha=0.5)\n",
    "plt.hist(data2['DDF'][data2['DDF']['type'] == 'Ibc']['mB'], label='Ibc', density=False, bins=bins1, histtype='stepfilled', color='brown', alpha=0.5)\n",
    "plt.hist(data2['DDF'][data2['DDF']['type'] == 'CART']['mB'], label='CART', bins=bins1, density=False,  histtype='stepfilled', color='purple', alpha=0.5)\n",
    "plt.legend(loc='upper left')\n",
    "plt.xlabel('mB')\n",
    "plt.ylabel('N')\n",
    "\n",
    "plt.subplot(2,1,2)\n",
    "plt.title('WFD')\n",
    "plt.hist(data2['WFD']['mB'], label='total', density=False, histtype='step', color='black', bins=bins2, lw=2)\n",
    "plt.hist(data2['WFD'][data2['WFD']['type'] == 'Ia']['mB'], label='Ia', density=False,  bins=bins2, histtype='step', lw=2, color='red')\n",
    "plt.hist(data2['WFD'][data2['WFD']['type'] == 'II']['mB'], label='II', density=False, bins=bins2, histtype='stepfilled', color='blue', alpha=0.25)\n",
    "plt.hist(data2['WFD'][data2['WFD']['type'] == 'Iax']['mB'], label='Iax', density=False,  bins=bins2, histtype='stepfilled', color='green', alpha=0.5)\n",
    "plt.hist(data2['WFD'][data2['WFD']['type'] == 'Ibc']['mB'], label='Ibc', density=False, bins=bins2, histtype='stepfilled', color='brown', alpha=0.5)\n",
    "plt.hist(data2['WFD'][data2['WFD']['type'] == 'CART']['mB'], label='CART', bins=bins2, density=False,  histtype='stepfilled', color='purple', alpha=0.5)\n",
    "plt.legend(loc='upper left')\n",
    "plt.xlabel('mB')\n",
    "plt.ylabel('N')\n",
    "\n",
    "plt.subplots_adjust(hspace=0.3)\n",
    "plt.savefig('mB.png')"
   ]
  },
  {
   "cell_type": "code",
   "execution_count": null,
   "metadata": {},
   "outputs": [],
   "source": [
    "plt.hist(data['mB'], density=True)\n",
    "plt.xlabel('mB')\n",
    "plt.ylabel('N')\n",
    "plt.show()"
   ]
  },
  {
   "cell_type": "code",
   "execution_count": null,
   "metadata": {},
   "outputs": [],
   "source": [
    "Ia_flag = np.logical_or(data['SIM_TYPE_INDEX'].values == 1, data['SIM_TYPE_INDEX'].values == 11)"
   ]
  },
  {
   "cell_type": "code",
   "execution_count": null,
   "metadata": {},
   "outputs": [],
   "source": [
    "plt.figure(figsize=(8,5))\n",
    "plt.hist(data[Ia_flag]['CHI2'], label='Ia', density=True, alpha=0.5, bins=20)\n",
    "plt.hist(data[~Ia_flag]['CHI2'], label='non-Ia', density=True, alpha=0.5, bins=40)\n",
    "plt.legend()\n",
    "plt.xlabel('CHI2')\n",
    "plt.ylabel('N')\n",
    "plt.show()"
   ]
  },
  {
   "cell_type": "code",
   "execution_count": null,
   "metadata": {},
   "outputs": [],
   "source": [
    "data.shape"
   ]
  },
  {
   "cell_type": "code",
   "execution_count": null,
   "metadata": {},
   "outputs": [],
   "source": [
    "data.keys()"
   ]
  },
  {
   "cell_type": "code",
   "execution_count": null,
   "metadata": {},
   "outputs": [],
   "source": []
  }
 ],
 "metadata": {
  "kernelspec": {
   "display_name": "Python 3",
   "language": "python",
   "name": "python3"
  },
  "language_info": {
   "codemirror_mode": {
    "name": "ipython",
    "version": 3
   },
   "file_extension": ".py",
   "mimetype": "text/x-python",
   "name": "python",
   "nbconvert_exporter": "python",
   "pygments_lexer": "ipython3",
   "version": "3.7.1"
  }
 },
 "nbformat": 4,
 "nbformat_minor": 4
}
